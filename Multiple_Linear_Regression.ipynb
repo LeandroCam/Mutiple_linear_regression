{
 "cells": [
  {
   "cell_type": "markdown",
   "id": "3b0f0d1b",
   "metadata": {},
   "source": [
    "# Chance of admission\n",
    "\n",
    "Simple models are better for understanding the impact & importance of each feature on a response variable.\n",
    "The target of this analyse is linear, linear model, linear regression triumphs over all other machine learning methods.\n",
    "With this dataset we'll predict the chance of Graduate Admissions from an Indian perspective. The dataset can be find in https://www.kaggle.com/mohansacharya/graduate-admissions\n",
    "Fist we load and analyse the data we have.\n",
    "\n"
   ]
  },
  {
   "cell_type": "code",
   "execution_count": 3,
   "id": "fdb5466c",
   "metadata": {},
   "outputs": [],
   "source": [
    "import pandas as pd\n",
    "\n",
    "df = pd.read_csv('/kaggle/input/graduate-admissions/Admission_Predict_Ver1.1.csv')\n",
    "df.head()\n"
   ]
  },
  {
   "cell_type": "markdown",
   "id": "7ec1edc3",
   "metadata": {},
   "source": [
    "[head](https://user-images.githubusercontent.com/83521233/122256502-8159be00-cea5-11eb-9ac5-49af270a9a20.png)"
   ]
  },
  {
   "cell_type": "markdown",
   "id": "eff8b1db",
   "metadata": {},
   "source": [
    "As we can see they are all numericall values so we don't need to use and encoding thecnics such as ordinal encoder\n",
    "or one-hot-encoder. \n",
    "\n",
    "Response Variable = Chance of Admit\n",
    "\n",
    "We have seven features to predict the response variable. Based on the permutation feature importances shown in figure, GCPA is the most important feature, and TOFL Score is the last important feature."
   ]
  },
  {
   "cell_type": "markdown",
   "id": "20c18bf7",
   "metadata": {},
   "source": [
    "[Importance](https://user-images.githubusercontent.com/83521233/117573956-33d18080-b0b1-11eb-8ef3-62eeee7425d8.png)"
   ]
  },
  {
   "cell_type": "code",
   "execution_count": null,
   "id": "dc89f2ba",
   "metadata": {},
   "outputs": [],
   "source": [
    "Code for permutation feature importance"
   ]
  },
  {
   "cell_type": "code",
   "execution_count": null,
   "id": "94edd063",
   "metadata": {},
   "outputs": [],
   "source": [
    "import pandas as pd\n",
    "import rfpimp\n",
    "import matplotlib.pyplot as plt\n",
    "from sklearn.model_selection import train_test_split\n",
    "from sklearn.ensemble import RandomForestRegressor\n",
    "\n",
    "\n",
    "# Load data\n",
    "file = 'Admission_Predict_Ver1.1.csv'\n",
    "df = pd.read_csv(file)\n",
    "features = ['GRE Score', 'TOEFL Score', 'University Rating', 'SOP','LOR' , 'CGPA', 'Research','Chance' ]\n",
    "\n",
    "# Train/tst split\n",
    "df_train, df_test = train_test_split(df)\n",
    "df_train = df_train[features]\n",
    "df_test = df_test[features]\n",
    "\n",
    "df_train = df_train[features]\n",
    "df_test = df_test[features]\n",
    "\n",
    "X_train, y_train = df_train.drop('Chance',axis=1), df_train['Chance']\n",
    "X_test, y_test = df_test.drop('Chance',axis=1), df_test['Chance']\n",
    "\n",
    "# Train\n",
    "rf = RandomForestRegressor(n_estimators=100)\n",
    "rf.fit(X_train,y_train)\n",
    "\n",
    "# Permutation feature importance\n",
    "imp = rfpimp.importances(rf, X_test, y_test)\n",
    "\n",
    "#Plot\n",
    "fig, ax = plt.subplots()\n",
    "ax.barh(imp.index, imp['Importance'],  facecolor='blue',  edgecolor='k')\n",
    "ax.set_xlabel('Importance score')\n",
    "ax.set_title('Permutation feature importance')\n",
    "plt.gca().invert_yaxis()\n",
    "fig.tight_layout()\n",
    "plt.show()"
   ]
  },
  {
   "cell_type": "markdown",
   "id": "99ba3865",
   "metadata": {},
   "source": [
    "Now we do linear regression with chance Vs CGPA a simple linear regression that can be ploted in 2d so we can star to understand better the model\n",
    "\n"
   ]
  },
  {
   "cell_type": "markdown",
   "id": "7a3e2c2f",
   "metadata": {},
   "source": [
    "[Chance vs CGPA](https://user-images.githubusercontent.com/83521233/117573960-3df37f00-b0b1-11eb-8569-a10cd20cd0d3.png)"
   ]
  },
  {
   "cell_type": "code",
   "execution_count": null,
   "id": "82233f06",
   "metadata": {},
   "outputs": [],
   "source": [
    "CGPA is the most important feature regarding Chance of addimission but CGPA alone captured only 78% of variance of the data."
   ]
  },
  {
   "cell_type": "code",
   "execution_count": null,
   "id": "d879c8d0",
   "metadata": {},
   "outputs": [],
   "source": [
    "Code for chance vs CGPA"
   ]
  },
  {
   "cell_type": "code",
   "execution_count": null,
   "id": "20fc316f",
   "metadata": {},
   "outputs": [],
   "source": [
    "import pandas as pd\n",
    "from sklearn import linear_model\n",
    "import matplotlib.pyplot as plt\n",
    "\n",
    "\n",
    "# Load data\n",
    "file = Admission_Predict_Ver1.1.csv'\n",
    "df = pd.read_csv(file)\n",
    "\n",
    "X = df['CGPA'].values.reshape(-1,1)\n",
    "Y = df['Chance'].values\n",
    "\n",
    "# Train\n",
    "\n",
    "adm = linear_model.LinearRegression()\n",
    "model = adm.fit(X, Y)\n",
    "response = model.predict(X)\n",
    "\n",
    "# Evaluate\n",
    "\n",
    "r2 = model.score(X, Y)\n",
    "\n",
    "#Plot\n",
    "\n",
    "plt.style.use('default')\n",
    "plt.style.use('ggplot')\n",
    "\n",
    "fig, ax = plt.subplots(figsize=(9, 5))\n",
    "\n",
    "ax.plot(X, response, color='k', label='Regression model')\n",
    "ax.scatter(X, Y, facecolor='blue', alpha=0.7, label='Sample data', marker='+' )\n",
    "ax.set_ylabel('Chance of Admit', fontsize=14)\n",
    "ax.set_xlabel('CGPA', fontsize=14)\n",
    "ax.legend(facecolor='white', fontsize=11)\n",
    "ax.set_title('$R^2= %.2f$' % r2, fontsize=15)"
   ]
  },
  {
   "cell_type": "markdown",
   "id": "da4cd87c",
   "metadata": {},
   "source": [
    "We can evaluate our model performance in a form of R-squared, with model.score(X, y). X is the features, and y is the response variable used to fit the model. model.score(X, y)\n",
    "We can make future prediction using model.predict(x_pred),  \n",
    "lm.predict[[8.87]] \n",
    "When your CGPA is 8.87 you have a chance of addmission of 78%.\n"
   ]
  },
  {
   "cell_type": "markdown",
   "id": "5336d0b6",
   "metadata": {},
   "source": [
    "Now we will use all the features we have.\n"
   ]
  },
  {
   "cell_type": "code",
   "execution_count": null,
   "id": "e524955b",
   "metadata": {},
   "outputs": [],
   "source": [
    "import pandas as pd\n",
    "import numpy as np\n",
    "from sklearn import linear_model\n",
    "from sklearn.metrics import r2_score\n",
    "from sklearn.model_selection import train_test_split\n",
    "\n",
    "# Load data\n",
    "file = pd.read_csv('Admission_Predict_Ver1.1.csv')\n",
    "features = ['GRE Score', 'TOEFL Score', 'University Rating', 'SOP','LOR' , 'CGPA', 'Research', ]\n",
    "target = 'Chance'\n",
    "\n",
    "x = np.array(file[features])\n",
    "y = np.array(file[target])\n",
    "\n",
    "# Split the data into training/testing sets\n",
    "X_train, X_test, Y_train, Y_test = train_test_split(x,y)\n",
    "\n",
    "# Create linear model and train it\n",
    "lm = linear_model.LinearRegression()\n",
    "lm.fit(X_train, Y_train)\n",
    "\n",
    "# Use model to predict on Test data\n",
    "lmp = lm.predict(X_test)\n",
    "\n",
    "# Intercept\n",
    "print('Intercept_:', lm.intercept_)\n",
    "# Coefficient\n",
    "print('Coefficient:', lm.coef_)\n",
    "# The coefficient of determination: 1 is perfect prediction\n",
    "print('Coefficient of determination: %.2f'\n",
    "      % r2_score(Y_test, lmp))"
   ]
  },
  {
   "cell_type": "markdown",
   "id": "ade69ad1",
   "metadata": {},
   "source": [
    "figure results"
   ]
  },
  {
   "cell_type": "markdown",
   "id": "bdbd449f",
   "metadata": {},
   "source": [
    "We can see that we improve the results to 0.83, lets try without TOEFL SCORE."
   ]
  },
  {
   "cell_type": "markdown",
   "id": "d6b0fa67",
   "metadata": {},
   "source": [
    "figure Results"
   ]
  },
  {
   "cell_type": "code",
   "execution_count": null,
   "id": "54684f71",
   "metadata": {},
   "outputs": [],
   "source": [
    "Note.value of individual regression coefficient may not be reliable under multicollinearity, it does not undermine the prediction power of the mode"
   ]
  },
  {
   "cell_type": "markdown",
   "id": "71b11c9d",
   "metadata": {},
   "source": [
    "TOFL score  variable dont improve our model, using her is simply add random noise. If we add it as a predictor to our model, we will most likely notice that our accuracy drops. This is because, while it is added information, it does not correlate well with the other information you have provided or dont have relation with the target(some cases add a feature can even drop the score).\n",
    "We have ways to improve the model but for this model we stop here.\n"
   ]
  },
  {
   "cell_type": "code",
   "execution_count": null,
   "id": "e6eec674",
   "metadata": {},
   "outputs": [],
   "source": []
  }
 ],
 "metadata": {
  "kernelspec": {
   "display_name": "Python 3",
   "language": "python",
   "name": "python3"
  },
  "language_info": {
   "codemirror_mode": {
    "name": "ipython",
    "version": 3
   },
   "file_extension": ".py",
   "mimetype": "text/x-python",
   "name": "python",
   "nbconvert_exporter": "python",
   "pygments_lexer": "ipython3",
   "version": "3.7.10"
  }
 },
 "nbformat": 4,
 "nbformat_minor": 5
}
